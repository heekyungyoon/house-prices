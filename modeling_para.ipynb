{
 "cells": [
  {
   "cell_type": "markdown",
   "metadata": {},
   "source": [
    "# Parametric models & Feature Selection\n",
    "- linear regression \n",
    "- linear regression w/ feature selection\n",
    "- linear regression w/ interaction\n",
    "- linear regression w/ Ridge, Lasso\n",
    "\n",
    "모델을 가정하여 데이터가 적은 부분에서도 안정적인 예측력을 보이는 parametric model을 테스트해보았다. 먼저, 가장 기본적인 linear regression에서 시작하여, 모델을 개선시키는 방식으로 진행하였다. \n",
    "\n",
    "상호작용이 없는 linear regression의 경우, feature간의 correlation이 없어야하는 가정을 만족해야 하지만, 일종의 벤치마크 수치를 구하기 위해, 모델을 돌려보았다. \n",
    "\n",
    "그 다음, backward stepwise selection을 통해 특정 feature의 영향을 제거하여 노이즈를 줄였다. \n",
    "\n",
    "그리고, ridge와 lasso를 통해 모든 feature의 영향을 조금씩 줄여 노이즈를 줄여보았다. ridge, lasso의 경우, selected feature를 바탕으로 interaction을 더한 다음, 구한 경우의 성능이 다소 높았다.\n",
    "\n",
    "**-> 결론: ridge, lasso with interaction of selected features 를 이용하여, 최종 앙상블 모형에 넣기로 결정**"
   ]
  },
  {
   "cell_type": "code",
   "execution_count": 1,
   "metadata": {
    "collapsed": true
   },
   "outputs": [],
   "source": [
    "# -*-coding:utf-8 -*-\n",
    "import pandas as pd\n",
    "from os import path\n",
    "from sklearn.linear_model import LinearRegression, Ridge, Lasso\n",
    "from sklearn.preprocessing import PolynomialFeatures\n",
    "from datetime import datetime\n",
    "import warnings\n",
    "import numpy as np\n",
    "#from numpy import sqrt, mean, log\n",
    "from random import seed, randrange\n",
    "import matplotlib.pyplot as plt\n",
    "import seaborn as sns\n",
    "%matplotlib inline\n",
    "warnings.filterwarnings(action=\"ignore\", module=\"scipy\", message=\"^internal gelsd\")"
   ]
  },
  {
   "cell_type": "code",
   "execution_count": 2,
   "metadata": {},
   "outputs": [
    {
     "name": "stdout",
     "output_type": "stream",
     "text": [
      "(1460, 247) (1460, 1) (1459, 247)\n"
     ]
    }
   ],
   "source": [
    "#LOAD DATA\n",
    "set_ver = 1\n",
    "curdir = path.curdir\n",
    "train_X_file = path.join(curdir, \"cache/tr_X_{}.csv.gz\".format(set_ver))\n",
    "test_y_file = path.join(curdir, \"cache/tr_y_{}.csv.gz\".format(set_ver))\n",
    "test_X_file = path.join(curdir, \"cache/te_X_{}.csv.gz\".format(set_ver))\n",
    "\n",
    "tr_X = pd.read_csv(train_X_file, compression=\"gzip\", index_col=\"Id\")\n",
    "tr_y = pd.read_csv(test_y_file, compression=\"gzip\", index_col=\"Id\")\n",
    "te_X = pd.read_csv(test_X_file, compression=\"gzip\", index_col=\"Id\")\n",
    "\n",
    "print(tr_X.shape, tr_y.shape, te_X.shape)"
   ]
  },
  {
   "cell_type": "code",
   "execution_count": 3,
   "metadata": {},
   "outputs": [
    {
     "data": {
      "text/html": [
       "<div>\n",
       "<table border=\"1\" class=\"dataframe\">\n",
       "  <thead>\n",
       "    <tr style=\"text-align: right;\">\n",
       "      <th></th>\n",
       "      <th>Id</th>\n",
       "    </tr>\n",
       "    <tr>\n",
       "      <th>cv</th>\n",
       "      <th></th>\n",
       "    </tr>\n",
       "  </thead>\n",
       "  <tbody>\n",
       "    <tr>\n",
       "      <th>0</th>\n",
       "      <td>290</td>\n",
       "    </tr>\n",
       "    <tr>\n",
       "      <th>1</th>\n",
       "      <td>297</td>\n",
       "    </tr>\n",
       "    <tr>\n",
       "      <th>2</th>\n",
       "      <td>295</td>\n",
       "    </tr>\n",
       "    <tr>\n",
       "      <th>3</th>\n",
       "      <td>297</td>\n",
       "    </tr>\n",
       "    <tr>\n",
       "      <th>4</th>\n",
       "      <td>281</td>\n",
       "    </tr>\n",
       "  </tbody>\n",
       "</table>\n",
       "</div>"
      ],
      "text/plain": [
       "     Id\n",
       "cv     \n",
       "0   290\n",
       "1   297\n",
       "2   295\n",
       "3   297\n",
       "4   281"
      ]
     },
     "execution_count": 3,
     "metadata": {},
     "output_type": "execute_result"
    }
   ],
   "source": [
    "#SPLIT CROSS VALIDATION SET\n",
    "seed(1000)\n",
    "cv_ref = pd.DataFrame({'Id': tr_X.index})\n",
    "cv_ref.loc[:, \"cv\"] = [randrange(5) for i in range(len(tr_X))]\n",
    "cv_ref.groupby(\"cv\").count()"
   ]
  },
  {
   "cell_type": "code",
   "execution_count": 4,
   "metadata": {},
   "outputs": [
    {
     "data": {
      "text/plain": [
       "count    1460.000000\n",
       "mean       12.024051\n",
       "std         0.399452\n",
       "min        10.460242\n",
       "25%        11.775097\n",
       "50%        12.001505\n",
       "75%        12.273731\n",
       "max        13.534473\n",
       "Name: SalePrice, dtype: float64"
      ]
     },
     "execution_count": 4,
     "metadata": {},
     "output_type": "execute_result"
    }
   ],
   "source": [
    "tr_y.SalePrice.describe()"
   ]
  },
  {
   "cell_type": "code",
   "execution_count": 6,
   "metadata": {
    "collapsed": true
   },
   "outputs": [],
   "source": [
    "min_log_saleprice = tr_y.SalePrice.min()"
   ]
  },
  {
   "cell_type": "code",
   "execution_count": 8,
   "metadata": {
    "collapsed": true
   },
   "outputs": [],
   "source": [
    "def root_mean_squared_error(y, pred_y):\n",
    "    assert len(y) == len(pred_y)\n",
    "    return np.sqrt(sum((pred_y - y)**2.0)/len(y))\n",
    "\n",
    "def cross_validate(regr, X, y, cv_ref, validation_func, threshold = min_log_saleprice):\n",
    "    scores = []\n",
    "    for i in cv_ref.cv.unique():\n",
    "        regr.fit(X[(cv_ref.cv != i).values], y[(cv_ref.cv != i).values])\n",
    "        pred_y = regr.predict(X[(cv_ref.cv == i).values])\n",
    "        # make it 0 for negative predictions\n",
    "        pred_y[pred_y < threshold] = threshold \n",
    "        \n",
    "        scores.append(\n",
    "            validation_func(\n",
    "                y[(cv_ref.cv == i).values].values.reshape(pred_y.shape[0]), \n",
    "                pred_y.reshape(pred_y.shape[0])))\n",
    "    return scores"
   ]
  },
  {
   "cell_type": "markdown",
   "metadata": {},
   "source": [
    "## Linear Regression"
   ]
  },
  {
   "cell_type": "code",
   "execution_count": 9,
   "metadata": {
    "collapsed": true
   },
   "outputs": [],
   "source": [
    "regr = LinearRegression()"
   ]
  },
  {
   "cell_type": "code",
   "execution_count": null,
   "metadata": {
    "collapsed": true
   },
   "outputs": [],
   "source": [
    "for i in range(10,30):\n",
    "    rmsle = []\n",
    "    best_param = 0 \n",
    "    best_score = 1\n",
    "    for i in iterable_range:\n",
    "        cv_scores = cross_validate(\n",
    "            regr, X, y, cv_table, validation_func, i)\n",
    "        mean_cv_score = np.mean(cv_scores)\n",
    "        rmsle.append(mean_cv_score)\n",
    "        if mean_cv_score < best_score:\n",
    "            best_score = mean_cv_score\n",
    "            best_param = param\n",
    "        print(\"i: {} -> rmsle: {}\".format(i, mean_cv_score))"
   ]
  },
  {
   "cell_type": "code",
   "execution_count": 57,
   "metadata": {},
   "outputs": [],
   "source": [
    "#threshold tuning\n",
    "def threshold_tuning(iterable_range, regr, X, y, cv_table, validation_func):\n",
    "    rmsle = []\n",
    "    best_param = 0 \n",
    "    best_score = 1\n",
    "    for i in iterable_range:\n",
    "        cv_scores = cross_validate(\n",
    "            regr, X, y, cv_table, validation_func, i)\n",
    "        mean_cv_score = np.mean(cv_scores)\n",
    "        rmsle.append(mean_cv_score)\n",
    "        if mean_cv_score < best_score:\n",
    "            best_score = mean_cv_score\n",
    "            best_param = i\n",
    "        print(\"i: {} -> rmsle: {}\".format(i, mean_cv_score))\n",
    "    print(\"best score: {} at {}\".format(best_score, best_param))\n",
    "    plt.plot(iterable_range, rmsle)\n",
    "    plt.title(\"Optimal param\")\n",
    "    plt.xlabel(\"param\")\n",
    "    plt.ylabel(\"RMSLE\")"
   ]
  },
  {
   "cell_type": "code",
   "execution_count": 58,
   "metadata": {},
   "outputs": [
    {
     "name": "stdout",
     "output_type": "stream",
     "text": [
      "i: 10.0 -> rmsle: 0.18091293889931878\n",
      "i: 10.2 -> rmsle: 0.17827085852675864\n",
      "i: 10.4 -> rmsle: 0.17583399824910678\n",
      "i: 10.6 -> rmsle: 0.17349802502747844\n",
      "i: 10.8 -> rmsle: 0.1706162751559641\n",
      "i: 11.0 -> rmsle: 0.16798370702417026\n",
      "i: 11.2 -> rmsle: 0.16688230264356793\n",
      "i: 11.4 -> rmsle: 0.1683395400681145\n",
      "i: 11.6 -> rmsle: 0.1803671773695959\n",
      "i: 11.8 -> rmsle: 0.21500090075086858\n",
      "i: 12.0 -> rmsle: 0.2881643555124787\n",
      "best score: 0.16688230264356793 at 11.2\n"
     ]
    },
    {
     "data": {
      "image/png": "[encoded data removed]",
      "text/plain": [
       "<matplotlib.figure.Figure at 0x117b51eb8>"
      ]
     },
     "metadata": {},
     "output_type": "display_data"
    }
   ],
   "source": [
    "threshold_tuning(np.linspace(10, 12, 11), regr, tr_X, tr_y, cv_ref, root_mean_squared_error)"
   ]
  },
  {
   "cell_type": "markdown",
   "metadata": {},
   "source": [
    "### FEATURE SELECTION (특정 feature의 영향을 제거하여 노이즈 없애기)\n",
    "dummy variable중 하나게 제거될 때, 같은 변수에서 파생된 변수를 모두 함께 제외하지 않음. 몇개만 제외하는 경우, binning이 변화하는 효과이기 때문에, 문제가 없기 때문이다."
   ]
  },
  {
   "cell_type": "code",
   "execution_count": 25,
   "metadata": {},
   "outputs": [
    {
     "name": "stdout",
     "output_type": "stream",
     "text": [
      "    0 when LotFrontage is removed, rmsle = 0.1748838906076003, KEEP!\n",
      "    1 when LotArea is removed, rmsle = 0.1745835649785471, REMOVE!\n",
      "    2 when OverallQual is removed, rmsle = 0.1815014808289169, KEEP!\n",
      "    3 when OverallCond is removed, rmsle = 0.17592241867129924, REMOVE!\n",
      "    4 when YearBuilt is removed, rmsle = 0.17542656069836454, REMOVE!\n",
      "    5 when YearRemodAdd is removed, rmsle = 0.17568773480016595, KEEP!\n",
      "    6 when MasVnrArea is removed, rmsle = 0.17540494866541329, REMOVE!\n",
      "    7 when ExterQual is removed, rmsle = 0.1752678626135516, REMOVE!\n",
      "    8 when ExterCond is removed, rmsle = 0.17501575778976192, REMOVE!\n",
      "    9 when BsmtQual is removed, rmsle = 0.17590853230902312, KEEP!\n",
      "    10 when BsmtCond is removed, rmsle = 0.17476876647401732, REMOVE!\n",
      "    11 when BsmtExposure is removed, rmsle = 0.17509433536566923, KEEP!\n",
      "    12 when BsmtFinType1 is removed, rmsle = 0.17531441254233088, KEEP!\n",
      "    13 when BsmtFinSF1 is removed, rmsle = 0.17476876647401726, REMOVE!\n",
      "    14 when BsmtFinType2 is removed, rmsle = 0.17476055747016705, REMOVE!\n",
      "    15 when BsmtFinSF2 is removed, rmsle = 0.1742722696282565, REMOVE!\n",
      "    16 when BsmtUnfSF is removed, rmsle = 0.17317650032916526, REMOVE!\n",
      "    17 when TotalBsmtSF is removed, rmsle = 0.17041868075135586, REMOVE!\n",
      "    18 when HeatingQC is removed, rmsle = 0.1709520504070539, KEEP!\n",
      "    19 when 1stFlrSF is removed, rmsle = 0.17041868075135586, REMOVE!\n",
      "    20 when 2ndFlrSF is removed, rmsle = 0.17015886183256676, REMOVE!\n",
      "    21 when LowQualFinSF is removed, rmsle = 0.16956829467275636, REMOVE!\n",
      "    22 when GrLivArea is removed, rmsle = 0.17006285124322973, KEEP!\n",
      "    23 when BsmtFullBath is removed, rmsle = 0.1694590951990436, REMOVE!\n",
      "    24 when BsmtHalfBath is removed, rmsle = 0.16935730531144183, REMOVE!\n",
      "    25 when FullBath is removed, rmsle = 0.1693869249304465, KEEP!\n",
      "    26 when HalfBath is removed, rmsle = 0.16962120993835025, KEEP!\n",
      "    27 when BedroomAbvGr is removed, rmsle = 0.1691787410722631, REMOVE!\n",
      "    28 when KitchenAbvGr is removed, rmsle = 0.16905967454208862, REMOVE!\n",
      "    29 when KitchenQual is removed, rmsle = 0.16955029924933362, KEEP!\n",
      "    30 when TotRmsAbvGrd is removed, rmsle = 0.16922311529436423, REMOVE!\n",
      "    31 when Fireplaces is removed, rmsle = 0.16920037469464708, REMOVE!\n",
      "    32 when FireplaceQu is removed, rmsle = 0.1709025295165772, KEEP!\n",
      "    33 when GarageYrBlt is removed, rmsle = 0.16928533013136807, REMOVE!\n",
      "    34 when GarageCars is removed, rmsle = 0.1696343597530366, KEEP!\n",
      "    35 when GarageArea is removed, rmsle = 0.16899294914407897, REMOVE!\n",
      "    36 when GarageQual is removed, rmsle = 0.1689247406647312, REMOVE!\n",
      "    37 when GarageCond is removed, rmsle = 0.16830347913889027, REMOVE!\n",
      "    38 when WoodDeckSF is removed, rmsle = 0.16884339894775227, KEEP!\n",
      "    39 when OpenPorchSF is removed, rmsle = 0.1677409827378167, REMOVE!\n",
      "    40 when EnclosedPorch is removed, rmsle = 0.167756995904629, KEEP!\n",
      "    41 when 3SsnPorch is removed, rmsle = 0.16809919655298744, KEEP!\n",
      "    42 when ScreenPorch is removed, rmsle = 0.16932454132008565, KEEP!\n",
      "    43 when PoolArea is removed, rmsle = 0.1672898496448135, REMOVE!\n",
      "    44 when PoolQC is removed, rmsle = 0.1662122710545907, REMOVE!\n",
      "    45 when MiscVal is removed, rmsle = 0.16601985766070965, REMOVE!\n",
      "    46 when YrSold is removed, rmsle = 0.16594143062551964, REMOVE!\n",
      "    47 when hasWoodDeck is removed, rmsle = 0.1660490557284665, KEEP!\n",
      "    48 when hasOpenPorch is removed, rmsle = 0.16576917864303475, REMOVE!\n",
      "    49 when hasEnclPorch is removed, rmsle = 0.16557096435019464, REMOVE!\n",
      "    50 when MSZoning_FV is removed, rmsle = 0.16867212053617472, KEEP!\n",
      "    51 when MSZoning_RH is removed, rmsle = 0.16958028276531095, KEEP!\n",
      "    52 when MSZoning_RL is removed, rmsle = 0.17019568057924178, KEEP!\n",
      "    53 when MSZoning_RM is removed, rmsle = 0.16850828536910512, REMOVE!\n",
      "    54 when MSZoning_nan is removed, rmsle = 0.1685082853691051, REMOVE!\n",
      "    55 when Street_Pave is removed, rmsle = 0.16847814878714265, REMOVE!\n",
      "    56 when Street_nan is removed, rmsle = 0.16847814878714254, REMOVE!\n",
      "    57 when Alley_Pave is removed, rmsle = 0.16825613341643292, REMOVE!\n",
      "    58 when Alley_nan is removed, rmsle = 0.1681295885518051, REMOVE!\n",
      "    59 when LotShape_IR2 is removed, rmsle = 0.1680839522589233, REMOVE!\n",
      "    60 when LotShape_IR3 is removed, rmsle = 0.16779097350142633, REMOVE!\n",
      "    61 when LotShape_Reg is removed, rmsle = 0.16772888082150444, REMOVE!\n",
      "    62 when LotShape_nan is removed, rmsle = 0.16772888082150458, KEEP!\n",
      "    63 when LandContour_HLS is removed, rmsle = 0.16807379356439203, KEEP!\n",
      "    64 when LandContour_Low is removed, rmsle = 0.1677031220957737, REMOVE!\n",
      "    65 when LandContour_Lvl is removed, rmsle = 0.16783135761398113, KEEP!\n",
      "    66 when LandContour_nan is removed, rmsle = 0.16770312209577357, REMOVE!\n",
      "    67 when LotConfig_CulDSac is removed, rmsle = 0.1679439510854568, KEEP!\n",
      "    68 when LotConfig_FR2 is removed, rmsle = 0.16759169490930007, REMOVE!\n",
      "    69 when LotConfig_FR3 is removed, rmsle = 0.16752748338224088, REMOVE!\n",
      "    70 when LotConfig_Inside is removed, rmsle = 0.16750813918144275, REMOVE!\n",
      "    71 when LotConfig_nan is removed, rmsle = 0.16750813918144272, REMOVE!\n",
      "    72 when LandSlope_Mod is removed, rmsle = 0.16768071839657606, KEEP!\n",
      "    73 when LandSlope_Sev is removed, rmsle = 0.16754638516781775, REMOVE!\n",
      "    74 when LandSlope_nan is removed, rmsle = 0.16754638516781767, REMOVE!\n",
      "    75 when Neighborhood_BrkSide is removed, rmsle = 0.1674658630352417, REMOVE!\n",
      "    76 when Neighborhood_ClearCr is removed, rmsle = 0.1673006700277802, REMOVE!\n",
      "    77 when Neighborhood_Etc is removed, rmsle = 0.1677130719436632, KEEP!\n",
      "    78 when Neighborhood_Gilbert is removed, rmsle = 0.1679177102200467, KEEP!\n",
      "    79 when Neighborhood_MeadowV is removed, rmsle = 0.1675831554485985, REMOVE!\n",
      "    80 when Neighborhood_NWAmes is removed, rmsle = 0.1680477122951778, KEEP!\n",
      "    81 when Neighborhood_NoRidge is removed, rmsle = 0.16732878560293948, REMOVE!\n",
      "    82 when Neighborhood_Somerst is removed, rmsle = 0.16727967096992966, REMOVE!\n",
      "    83 when Neighborhood_StoneBr is removed, rmsle = 0.16728890826447976, KEEP!\n",
      "    84 when Neighborhood_Timber is removed, rmsle = 0.16726606469110927, REMOVE!\n",
      "    85 when Neighborhood_Veenker is removed, rmsle = 0.16726422929714344, REMOVE!\n",
      "    86 when Neighborhood_nan is removed, rmsle = 0.1672642292971434, REMOVE!\n",
      "    87 when Condition1_Feedr is removed, rmsle = 0.1673034286155565, KEEP!\n",
      "    88 when Condition1_Norm is removed, rmsle = 0.16826095912080902, KEEP!\n",
      "    89 when Condition1_PosA is removed, rmsle = 0.16700623714001447, REMOVE!\n",
      "    90 when Condition1_PosN is removed, rmsle = 0.16709404864627547, KEEP!\n",
      "    91 when Condition1_RRAe is removed, rmsle = 0.16690938385845258, REMOVE!\n",
      "    92 when Condition1_RRAn is removed, rmsle = 0.16717395619903477, KEEP!\n",
      "    93 when Condition1_RRNe is removed, rmsle = 0.16686843898122156, REMOVE!\n",
      "    94 when Condition1_RRNn is removed, rmsle = 0.16671613567665272, REMOVE!\n",
      "    95 when Condition1_nan is removed, rmsle = 0.1667161356766527, REMOVE!\n",
      "    96 when Condition2_Feedr is removed, rmsle = 0.16610402199550434, REMOVE!\n",
      "    97 when Condition2_Norm is removed, rmsle = 0.1662002957349503, KEEP!\n",
      "    98 when Condition2_PosA is removed, rmsle = 0.16633330148386516, KEEP!\n",
      "    99 when Condition2_PosN is removed, rmsle = 0.16140329283047736, REMOVE!\n",
      "    100 when Condition2_RRAe is removed, rmsle = 0.16119542405936488, REMOVE!\n",
      "    101 when Condition2_RRAn is removed, rmsle = 0.16099149827768106, REMOVE!\n",
      "    102 when Condition2_RRNn is removed, rmsle = 0.16091926275322535, REMOVE!\n",
      "    103 when Condition2_nan is removed, rmsle = 0.16091926275322538, KEEP!\n",
      "    104 when BldgType_2fmCon is removed, rmsle = 0.1610014351514085, KEEP!\n",
      "    105 when BldgType_Duplex is removed, rmsle = 0.16090012637991097, REMOVE!\n",
      "    106 when BldgType_Twnhs is removed, rmsle = 0.1608624830219367, REMOVE!\n",
      "    107 when BldgType_TwnhsE is removed, rmsle = 0.1609068240173715, KEEP!\n",
      "    108 when BldgType_nan is removed, rmsle = 0.16086248302193656, REMOVE!\n",
      "    109 when HouseStyle_1.5Unf is removed, rmsle = 0.16123367037506034, KEEP!\n",
      "    110 when HouseStyle_1Story is removed, rmsle = 0.16142876094512135, KEEP!\n",
      "    111 when HouseStyle_2.5Fin is removed, rmsle = 0.16056163131004436, REMOVE!\n"
     ]
    },
    {
     "name": "stdout",
     "output_type": "stream",
     "text": [
      "    112 when HouseStyle_2.5Unf is removed, rmsle = 0.1603707059060715, REMOVE!\n",
      "    113 when HouseStyle_2Story is removed, rmsle = 0.1604108593837571, KEEP!\n",
      "    114 when HouseStyle_SFoyer is removed, rmsle = 0.16003514707537397, REMOVE!\n",
      "    115 when HouseStyle_SLvl is removed, rmsle = 0.15993367517662765, REMOVE!\n",
      "    116 when HouseStyle_nan is removed, rmsle = 0.15993367517662765, KEEP!\n",
      "    117 when RoofStyle_Gable is removed, rmsle = 0.15820832092123535, REMOVE!\n",
      "    118 when RoofStyle_Gambrel is removed, rmsle = 0.15783852133973347, REMOVE!\n",
      "    119 when RoofStyle_Hip is removed, rmsle = 0.15790619535798026, KEEP!\n",
      "    120 when RoofStyle_Mansard is removed, rmsle = 0.15782248676182395, REMOVE!\n",
      "    121 when RoofStyle_Shed is removed, rmsle = 0.15795083853543815, KEEP!\n",
      "    122 when RoofStyle_nan is removed, rmsle = 0.15782248676182412, REMOVE!\n",
      "    123 when RoofMatl_CompShg is removed, rmsle = 0.14978042528968954, REMOVE!\n",
      "    124 when RoofMatl_Membran is removed, rmsle = 0.14985790909446253, KEEP!\n",
      "    125 when RoofMatl_Metal is removed, rmsle = 0.14971596004012774, REMOVE!\n",
      "    126 when RoofMatl_Roll is removed, rmsle = 0.14969578096192418, REMOVE!\n",
      "    127 when RoofMatl_Tar&Grv is removed, rmsle = 0.149491596475184, REMOVE!\n",
      "    128 when RoofMatl_WdShake is removed, rmsle = 0.1495333589916943, KEEP!\n",
      "    129 when RoofMatl_WdShngl is removed, rmsle = 0.14946800733632976, REMOVE!\n",
      "    130 when RoofMatl_nan is removed, rmsle = 0.14946800733632978, KEEP!\n",
      "    131 when Exterior1st_AsphShn is removed, rmsle = 0.149405568423452, REMOVE!\n",
      "    132 when Exterior1st_BrkComm is removed, rmsle = 0.14975849041403202, KEEP!\n",
      "    133 when Exterior1st_BrkFace is removed, rmsle = 0.1493289821096659, REMOVE!\n",
      "    134 when Exterior1st_CBlock is removed, rmsle = 0.14932898210966594, KEEP!\n",
      "    135 when Exterior1st_CemntBd is removed, rmsle = 0.14920373558370786, REMOVE!\n",
      "    136 when Exterior1st_HdBoard is removed, rmsle = 0.14990393254400325, KEEP!\n",
      "    137 when Exterior1st_ImStucc is removed, rmsle = 0.1492148626148077, REMOVE!\n",
      "    138 when Exterior1st_MetalSd is removed, rmsle = 0.14907269737942827, REMOVE!\n",
      "    139 when Exterior1st_Plywood is removed, rmsle = 0.14931874901820907, KEEP!\n",
      "    140 when Exterior1st_Stone is removed, rmsle = 0.14873747425739262, REMOVE!\n",
      "    141 when Exterior1st_Stucco is removed, rmsle = 0.14873098253869854, REMOVE!\n",
      "    142 when Exterior1st_VinylSd is removed, rmsle = 0.14855967822432253, REMOVE!\n",
      "    143 when Exterior1st_Wd Sdng is removed, rmsle = 0.14893307595863564, KEEP!\n",
      "    144 when Exterior1st_WdShing is removed, rmsle = 0.1486543294940384, REMOVE!\n",
      "    145 when Exterior1st_nan is removed, rmsle = 0.1486543294940383, REMOVE!\n",
      "    146 when Exterior2nd_AsphShn is removed, rmsle = 0.1487672224115224, KEEP!\n",
      "    147 when Exterior2nd_Brk Cmn is removed, rmsle = 0.1486963271843563, REMOVE!\n",
      "    148 when Exterior2nd_BrkFace is removed, rmsle = 0.14846085423695116, REMOVE!\n",
      "    149 when Exterior2nd_CBlock is removed, rmsle = 0.14846085423695116, KEEP!\n",
      "    150 when Exterior2nd_CmentBd is removed, rmsle = 0.14836014465922887, REMOVE!\n",
      "    151 when Exterior2nd_HdBoard is removed, rmsle = 0.14850483257485633, KEEP!\n",
      "    152 when Exterior2nd_ImStucc is removed, rmsle = 0.14821429359575064, REMOVE!\n",
      "    153 when Exterior2nd_MetalSd is removed, rmsle = 0.1479777149913753, REMOVE!\n",
      "    154 when Exterior2nd_Other is removed, rmsle = 0.1479699633514306, REMOVE!\n",
      "    155 when Exterior2nd_Plywood is removed, rmsle = 0.1480739039124094, KEEP!\n",
      "    156 when Exterior2nd_Stone is removed, rmsle = 0.14777937267191663, REMOVE!\n",
      "    157 when Exterior2nd_Stucco is removed, rmsle = 0.14726690542803905, REMOVE!\n",
      "    158 when Exterior2nd_VinylSd is removed, rmsle = 0.14714696414647105, REMOVE!\n",
      "    159 when Exterior2nd_Wd Sdng is removed, rmsle = 0.14727630138718056, KEEP!\n",
      "    160 when Exterior2nd_Wd Shng is removed, rmsle = 0.14698331843735057, REMOVE!\n",
      "    161 when Exterior2nd_nan is removed, rmsle = 0.14698331843735052, REMOVE!\n",
      "    162 when MasVnrType_BrkFace is removed, rmsle = 0.14680668797075794, REMOVE!\n",
      "    163 when MasVnrType_None is removed, rmsle = 0.14663014831336602, REMOVE!\n",
      "    164 when MasVnrType_Stone is removed, rmsle = 0.14663769189469633, KEEP!\n",
      "    165 when MasVnrType_nan is removed, rmsle = 0.14663014831336602, REMOVE!\n",
      "    166 when Foundation_CBlock is removed, rmsle = 0.14684505694855626, KEEP!\n",
      "    167 when Foundation_PConc is removed, rmsle = 0.1468441784191264, REMOVE!\n",
      "    168 when Foundation_Slab is removed, rmsle = 0.14680488286587395, REMOVE!\n",
      "    169 when Foundation_Stone is removed, rmsle = 0.14675925594024855, REMOVE!\n",
      "    170 when Foundation_Wood is removed, rmsle = 0.1467373255976565, REMOVE!\n",
      "    171 when Foundation_nan is removed, rmsle = 0.14673732559765656, KEEP!\n",
      "    172 when Heating_GasA is removed, rmsle = 0.1467471005477834, KEEP!\n",
      "    173 when Heating_GasW is removed, rmsle = 0.14687438042728332, KEEP!\n",
      "    174 when Heating_Grav is removed, rmsle = 0.14670904616844777, REMOVE!\n",
      "    175 when Heating_OthW is removed, rmsle = 0.14663757743611525, REMOVE!\n",
      "    176 when Heating_Wall is removed, rmsle = 0.14652574480782818, REMOVE!\n",
      "    177 when Heating_nan is removed, rmsle = 0.14652574480782818, KEEP!\n",
      "    178 when CentralAir_Y is removed, rmsle = 0.14749154145018417, KEEP!\n",
      "    179 when CentralAir_nan is removed, rmsle = 0.14652574480782826, REMOVE!\n",
      "    180 when Electrical_FuseF is removed, rmsle = 0.14615912054825164, REMOVE!\n",
      "    181 when Electrical_FuseP is removed, rmsle = 0.14610730078541503, REMOVE!\n",
      "    182 when Electrical_Mix is removed, rmsle = 0.146113108340628, KEEP!\n",
      "    183 when Electrical_SBrkr is removed, rmsle = 0.14583256097501834, REMOVE!\n",
      "    184 when Electrical_nan is removed, rmsle = 0.14583256097501837, KEEP!\n",
      "    185 when Functional_Maj2 is removed, rmsle = 0.14672391630545864, KEEP!\n",
      "    186 when Functional_Min1 is removed, rmsle = 0.1457590859807631, REMOVE!\n",
      "    187 when Functional_Min2 is removed, rmsle = 0.14568503244835745, REMOVE!\n",
      "    188 when Functional_Mod is removed, rmsle = 0.14596741181586392, KEEP!\n",
      "    189 when Functional_Sev is removed, rmsle = 0.14566885480917977, REMOVE!\n",
      "    190 when Functional_Typ is removed, rmsle = 0.1460164833532035, KEEP!\n",
      "    191 when Functional_nan is removed, rmsle = 0.14566885480917974, REMOVE!\n",
      "    192 when GarageType_Attchd is removed, rmsle = 6019664960.386979, KEEP!\n",
      "    193 when GarageType_Basment is removed, rmsle = 0.14529875201011494, REMOVE!\n",
      "    194 when GarageType_BuiltIn is removed, rmsle = 0.14542597125847215, KEEP!\n",
      "    195 when GarageType_CarPort is removed, rmsle = 0.14517623898271725, REMOVE!\n",
      "    196 when GarageType_Detchd is removed, rmsle = 0.14561667897463432, KEEP!\n",
      "    197 when GarageType_nan is removed, rmsle = 0.14517623898271712, REMOVE!\n",
      "    198 when GarageFinish_RFn is removed, rmsle = 0.14503645949670418, REMOVE!\n",
      "    199 when GarageFinish_Unf is removed, rmsle = 0.14512712388533913, KEEP!\n",
      "    200 when GarageFinish_nan is removed, rmsle = 0.1449523179164942, REMOVE!\n",
      "    201 when PavedDrive_P is removed, rmsle = 0.14491905188803278, REMOVE!\n",
      "    202 when PavedDrive_Y is removed, rmsle = 0.14501027135911437, KEEP!\n",
      "    203 when PavedDrive_nan is removed, rmsle = 0.14491905188803272, REMOVE!\n",
      "    204 when Fence_GdWo is removed, rmsle = 0.14495343919731546, KEEP!\n",
      "    205 when Fence_MnPrv is removed, rmsle = 0.14490354571172373, REMOVE!\n",
      "    206 when Fence_MnWw is removed, rmsle = 0.14481809829294873, REMOVE!\n",
      "    207 when Fence_nan is removed, rmsle = 0.1447102472412081, REMOVE!\n",
      "    208 when MiscFeature_Othr is removed, rmsle = 0.14469374721134448, REMOVE!\n",
      "    209 when MiscFeature_Shed is removed, rmsle = 0.14477277596232566, KEEP!\n",
      "    210 when MiscFeature_TenC is removed, rmsle = 0.14458965684855996, REMOVE!\n",
      "    211 when MiscFeature_nan is removed, rmsle = 0.14477630124803725, KEEP!\n",
      "    212 when MoSold_10 is removed, rmsle = 0.14428275685278866, REMOVE!\n",
      "    213 when MoSold_11 is removed, rmsle = 0.14441533725606226, KEEP!\n",
      "    214 when MoSold_12 is removed, rmsle = 0.14405321992458062, REMOVE!\n",
      "    215 when MoSold_2 is removed, rmsle = 0.14392300756109186, REMOVE!\n",
      "    216 when MoSold_3 is removed, rmsle = 0.14381806902941713, REMOVE!\n",
      "    217 when MoSold_4 is removed, rmsle = 0.14362727951917562, REMOVE!\n"
     ]
    },
    {
     "name": "stdout",
     "output_type": "stream",
     "text": [
      "    218 when MoSold_5 is removed, rmsle = 0.14379414459630208, KEEP!\n",
      "    219 when MoSold_6 is removed, rmsle = 0.1437577587400394, REMOVE!\n",
      "    220 when MoSold_7 is removed, rmsle = 0.14373617326832916, REMOVE!\n",
      "    221 when MoSold_8 is removed, rmsle = 0.1437097472531264, REMOVE!\n",
      "    222 when MoSold_9 is removed, rmsle = 0.1436844374657352, REMOVE!\n",
      "    223 when MoSold_nan is removed, rmsle = 0.14368443746573525, KEEP!\n",
      "    224 when SaleType_CWD is removed, rmsle = 0.1434292908063279, REMOVE!\n",
      "    225 when SaleType_Con is removed, rmsle = 0.1433474367533445, REMOVE!\n",
      "    226 when SaleType_ConLD is removed, rmsle = 0.14331155243248836, REMOVE!\n",
      "    227 when SaleType_ConLI is removed, rmsle = 0.14306948264325636, REMOVE!\n",
      "    228 when SaleType_ConLw is removed, rmsle = 0.1430094558070524, REMOVE!\n",
      "    229 when SaleType_New is removed, rmsle = 0.1423864899438521, REMOVE!\n",
      "    230 when SaleType_Oth is removed, rmsle = 0.14228031125585688, REMOVE!\n",
      "    231 when SaleType_WD is removed, rmsle = 0.14193802591624655, REMOVE!\n",
      "    232 when SaleType_nan is removed, rmsle = 0.14193802591624646, REMOVE!\n",
      "    233 when SaleCondition_AdjLand is removed, rmsle = 0.141945548873422, KEEP!\n",
      "    234 when SaleCondition_Alloca is removed, rmsle = 0.14182568488300945, REMOVE!\n",
      "    235 when SaleCondition_Family is removed, rmsle = 0.1417655499070089, REMOVE!\n",
      "    236 when SaleCondition_Normal is removed, rmsle = 0.1432139642696077, KEEP!\n",
      "    237 when SaleCondition_Partial is removed, rmsle = 0.14291229578886838, REMOVE!\n",
      "    238 when SaleCondition_nan is removed, rmsle = 0.14291229578886838, KEEP!\n",
      "    239 when MSSubClass_age_NEWER is removed, rmsle = 0.14312995977469206, KEEP!\n",
      "    240 when MSSubClass_age_OLDER is removed, rmsle = 0.14308088453252163, REMOVE!\n",
      "    241 when MSSubClass_age_nan is removed, rmsle = 0.1430808845325216, REMOVE!\n",
      "    242 when MSSubClass_finish_FIN is removed, rmsle = 0.14316769279273728, KEEP!\n",
      "    243 when MSSubClass_finish_NA is removed, rmsle = 0.14313356620095963, REMOVE!\n",
      "    244 when MSSubClass_finish_PUD is removed, rmsle = 0.1444987496730366, KEEP!\n",
      "    245 when MSSubClass_finish_UNFIN is removed, rmsle = 0.14318462765904924, REMOVE!\n",
      "    246 when MSSubClass_finish_nan is removed, rmsle = 0.1431846276590493, KEEP!\n"
     ]
    }
   ],
   "source": [
    "rmsle_feature_selection = []\n",
    "previous_mean_cv_score = 0.166882302644\n",
    "feature_selected = list(range(tr_X.shape[1]))\n",
    "\n",
    "for i in range(tr_X.shape[1]):\n",
    "    tmp = feature_selected.copy()\n",
    "    tmp.remove(i)\n",
    "\n",
    "    cv_scores = cross_validate(\n",
    "        regr, tr_X.iloc[:, tmp], tr_y, cv_ref, root_mean_squared_error)\n",
    "    mean_cv_score = np.mean(cv_scores)\n",
    "    rmsle_feature_selection.append(mean_cv_score)\n",
    "    #make a decision\n",
    "    if mean_cv_score < previous_mean_cv_score:\n",
    "        feature_selected.remove(i)\n",
    "        print(\"    {} when {} is removed, rmsle = {}, REMOVE!\".format(i, tr_X.columns[i], mean_cv_score))\n",
    "    else:\n",
    "        print(\"    {} when {} is removed, rmsle = {}, KEEP!\".format(i, tr_X.columns[i], mean_cv_score))\n",
    "    previous_mean_cv_score = mean_cv_score"
   ]
  },
  {
   "cell_type": "code",
   "execution_count": 26,
   "metadata": {},
   "outputs": [
    {
     "data": {
      "text/plain": [
       "['LotFrontage',\n",
       " 'OverallQual',\n",
       " 'YearRemodAdd',\n",
       " 'BsmtQual',\n",
       " 'BsmtExposure',\n",
       " 'BsmtFinType1',\n",
       " 'HeatingQC',\n",
       " 'GrLivArea',\n",
       " 'FullBath',\n",
       " 'HalfBath',\n",
       " 'KitchenQual',\n",
       " 'FireplaceQu',\n",
       " 'GarageCars',\n",
       " 'WoodDeckSF',\n",
       " 'EnclosedPorch',\n",
       " '3SsnPorch',\n",
       " 'ScreenPorch',\n",
       " 'hasWoodDeck',\n",
       " 'MSZoning_FV',\n",
       " 'MSZoning_RH',\n",
       " 'MSZoning_RL',\n",
       " 'LotShape_nan',\n",
       " 'LandContour_HLS',\n",
       " 'LandContour_Lvl',\n",
       " 'LotConfig_CulDSac',\n",
       " 'LandSlope_Mod',\n",
       " 'Neighborhood_Etc',\n",
       " 'Neighborhood_Gilbert',\n",
       " 'Neighborhood_NWAmes',\n",
       " 'Neighborhood_StoneBr',\n",
       " 'Condition1_Feedr',\n",
       " 'Condition1_Norm',\n",
       " 'Condition1_PosN',\n",
       " 'Condition1_RRAn',\n",
       " 'Condition2_Norm',\n",
       " 'Condition2_PosA',\n",
       " 'Condition2_nan',\n",
       " 'BldgType_2fmCon',\n",
       " 'BldgType_TwnhsE',\n",
       " 'HouseStyle_1.5Unf',\n",
       " 'HouseStyle_1Story',\n",
       " 'HouseStyle_2Story',\n",
       " 'HouseStyle_nan',\n",
       " 'RoofStyle_Hip',\n",
       " 'RoofStyle_Shed',\n",
       " 'RoofMatl_Membran',\n",
       " 'RoofMatl_WdShake',\n",
       " 'RoofMatl_nan',\n",
       " 'Exterior1st_BrkComm',\n",
       " 'Exterior1st_CBlock',\n",
       " 'Exterior1st_HdBoard',\n",
       " 'Exterior1st_Plywood',\n",
       " 'Exterior1st_Wd Sdng',\n",
       " 'Exterior2nd_AsphShn',\n",
       " 'Exterior2nd_CBlock',\n",
       " 'Exterior2nd_HdBoard',\n",
       " 'Exterior2nd_Plywood',\n",
       " 'Exterior2nd_Wd Sdng',\n",
       " 'MasVnrType_Stone',\n",
       " 'Foundation_CBlock',\n",
       " 'Foundation_nan',\n",
       " 'Heating_GasA',\n",
       " 'Heating_GasW',\n",
       " 'Heating_nan',\n",
       " 'CentralAir_Y',\n",
       " 'Electrical_Mix',\n",
       " 'Electrical_nan',\n",
       " 'Functional_Maj2',\n",
       " 'Functional_Mod',\n",
       " 'Functional_Typ',\n",
       " 'GarageType_Attchd',\n",
       " 'GarageType_BuiltIn',\n",
       " 'GarageType_Detchd',\n",
       " 'GarageFinish_Unf',\n",
       " 'PavedDrive_Y',\n",
       " 'Fence_GdWo',\n",
       " 'MiscFeature_Shed',\n",
       " 'MiscFeature_nan',\n",
       " 'MoSold_11',\n",
       " 'MoSold_5',\n",
       " 'MoSold_nan',\n",
       " 'SaleCondition_AdjLand',\n",
       " 'SaleCondition_Normal',\n",
       " 'SaleCondition_nan',\n",
       " 'MSSubClass_age_NEWER',\n",
       " 'MSSubClass_finish_FIN',\n",
       " 'MSSubClass_finish_PUD',\n",
       " 'MSSubClass_finish_nan']"
      ]
     },
     "execution_count": 26,
     "metadata": {},
     "output_type": "execute_result"
    }
   ],
   "source": [
    "feature_selected = list(tr_X.iloc[:, feature_selected].columns)\n",
    "feature_selected"
   ]
  },
  {
   "cell_type": "code",
   "execution_count": 27,
   "metadata": {},
   "outputs": [
    {
     "data": {
      "text/plain": [
       "['LotFrontage',\n",
       " 'OverallQual',\n",
       " 'YearRemodAdd',\n",
       " 'BsmtQual',\n",
       " 'BsmtExposure',\n",
       " 'BsmtFinType1',\n",
       " 'HeatingQC',\n",
       " 'GrLivArea',\n",
       " 'FullBath',\n",
       " 'HalfBath',\n",
       " 'KitchenQual',\n",
       " 'FireplaceQu',\n",
       " 'GarageCars',\n",
       " 'WoodDeckSF',\n",
       " 'EnclosedPorch',\n",
       " '3SsnPorch',\n",
       " 'ScreenPorch',\n",
       " 'hasWoodDeck',\n",
       " 'MSZoning_FV',\n",
       " 'MSZoning_RH',\n",
       " 'MSZoning_RL',\n",
       " 'LotShape_nan',\n",
       " 'LandContour_HLS',\n",
       " 'LandContour_Lvl',\n",
       " 'LotConfig_CulDSac',\n",
       " 'LandSlope_Mod',\n",
       " 'Neighborhood_Etc',\n",
       " 'Neighborhood_Gilbert',\n",
       " 'Neighborhood_NWAmes',\n",
       " 'Neighborhood_StoneBr',\n",
       " 'Condition1_Feedr',\n",
       " 'Condition1_Norm',\n",
       " 'Condition1_PosN',\n",
       " 'Condition1_RRAn',\n",
       " 'Condition2_Norm',\n",
       " 'Condition2_PosA',\n",
       " 'Condition2_nan',\n",
       " 'BldgType_2fmCon',\n",
       " 'BldgType_TwnhsE',\n",
       " 'HouseStyle_1.5Unf',\n",
       " 'HouseStyle_1Story',\n",
       " 'HouseStyle_2Story',\n",
       " 'HouseStyle_nan',\n",
       " 'RoofStyle_Hip',\n",
       " 'RoofStyle_Shed',\n",
       " 'RoofMatl_Membran',\n",
       " 'RoofMatl_WdShake',\n",
       " 'RoofMatl_nan',\n",
       " 'Exterior1st_BrkComm',\n",
       " 'Exterior1st_CBlock',\n",
       " 'Exterior1st_HdBoard',\n",
       " 'Exterior1st_Plywood',\n",
       " 'Exterior1st_Wd Sdng',\n",
       " 'Exterior2nd_AsphShn',\n",
       " 'Exterior2nd_CBlock',\n",
       " 'Exterior2nd_HdBoard',\n",
       " 'Exterior2nd_Plywood',\n",
       " 'Exterior2nd_Wd Sdng',\n",
       " 'MasVnrType_Stone',\n",
       " 'Foundation_CBlock',\n",
       " 'Foundation_nan',\n",
       " 'Heating_GasA',\n",
       " 'Heating_GasW',\n",
       " 'Heating_nan',\n",
       " 'CentralAir_Y',\n",
       " 'Electrical_Mix',\n",
       " 'Electrical_nan',\n",
       " 'Functional_Maj2',\n",
       " 'Functional_Mod',\n",
       " 'Functional_Typ',\n",
       " 'GarageType_Attchd',\n",
       " 'GarageType_BuiltIn',\n",
       " 'GarageType_Detchd',\n",
       " 'GarageFinish_Unf',\n",
       " 'PavedDrive_Y',\n",
       " 'Fence_GdWo',\n",
       " 'MiscFeature_Shed',\n",
       " 'MiscFeature_nan',\n",
       " 'MoSold_11',\n",
       " 'MoSold_5',\n",
       " 'SaleCondition_AdjLand',\n",
       " 'SaleCondition_Normal',\n",
       " 'MSSubClass_age_NEWER',\n",
       " 'MSSubClass_finish_FIN',\n",
       " 'MSSubClass_finish_PUD',\n",
       " 'MSSubClass_finish_nan',\n",
       " 'LotArea',\n",
       " 'MoSold_6',\n",
       " 'MoSold_7',\n",
       " 'hasEnclPorch',\n",
       " 'Neighborhood_Somerst']"
      ]
     },
     "execution_count": 27,
     "metadata": {},
     "output_type": "execute_result"
    }
   ],
   "source": [
    "#꼭 필요하다고 생각되는 항목 및 제거해야하는 항목의 경우, 수작업 통해 추가함\n",
    "feature_selected += [\"LotArea\", \"MoSold_6\", \"MoSold_7\", \"hasEnclPorch\", \"Neighborhood_Somerst\"]\n",
    "#get dummies 과정에서 test셋이 포함되면서 불필요하게 포함된 항목 제거 \n",
    "feature_selected.remove(\"MoSold_nan\")\n",
    "feature_selected.remove(\"SaleCondition_nan\")\n",
    "feature_selected"
   ]
  },
  {
   "cell_type": "markdown",
   "metadata": {},
   "source": [
    "### LINEAR REGRESSION W/ INTERACTION\n"
   ]
  },
  {
   "cell_type": "code",
   "execution_count": 28,
   "metadata": {
    "collapsed": true
   },
   "outputs": [],
   "source": [
    "def bring_interaction(X, level=2):\n",
    "    '''\n",
    "    level: int >=2\n",
    "    X\n",
    "    \n",
    "    returns: X with polynomial features\n",
    "    '''\n",
    "    \n",
    "    poly = PolynomialFeatures(level)\n",
    "    Xpoly = poly.fit_transform(X)\n",
    "    \n",
    "    return Xpoly"
   ]
  },
  {
   "cell_type": "code",
   "execution_count": 30,
   "metadata": {},
   "outputs": [
    {
     "name": "stdout",
     "output_type": "stream",
     "text": [
      "rmsle: 0.1431846276590493\n",
      "48\n"
     ]
    }
   ],
   "source": [
    "t0 = datetime.utcnow()\n",
    "tr_X_poly = bring_interaction(tr_X.loc[:, feature_selected])\n",
    "cv_scores = cross_validate(\n",
    "    regr, tr_X_poly, tr_y, cv_ref, root_mean_squared_error)\n",
    "print(\"rmsle: {}\".format(mean_cv_score))    \n",
    "print((datetime.utcnow()-t0).seconds)"
   ]
  },
  {
   "cell_type": "markdown",
   "metadata": {},
   "source": [
    "### REGULARIZATION: RIDGE (모든 feature의 영향을 조심씩 줄여서 노이즈 없애기)"
   ]
  },
  {
   "cell_type": "code",
   "execution_count": 59,
   "metadata": {
    "collapsed": true
   },
   "outputs": [],
   "source": [
    "def ridge_alpha_tuning(iterable_range, X, y, cv_table, validation_func, \n",
    "                 threshold=min_log_saleprice):\n",
    "    rmsle = []\n",
    "    best_param = 0 \n",
    "    best_score = 1\n",
    "    for i in iterable_range:\n",
    "        regr = Ridge(alpha=i)\n",
    "        cv_scores = cross_validate(\n",
    "            regr, X, y, cv_table, validation_func, threshold)\n",
    "        mean_cv_score = np.mean(cv_scores)\n",
    "        rmsle.append(mean_cv_score)\n",
    "        if mean_cv_score < best_score:\n",
    "            best_score = mean_cv_score\n",
    "            best_param = i\n",
    "        print(\"i: {} -> rmsle: {}\".format(i, mean_cv_score))\n",
    "    print(\"best score: {} at {}\".format(best_score, best_param))\n",
    "    plt.plot(iterable_range, rmsle)\n",
    "    plt.title(\"Optimal param\")\n",
    "    plt.xlabel(\"param\")\n",
    "    plt.ylabel(\"RMSLE\")"
   ]
  },
  {
   "cell_type": "code",
   "execution_count": 60,
   "metadata": {},
   "outputs": [
    {
     "name": "stdout",
     "output_type": "stream",
     "text": [
      "i: 1 -> rmsle: 0.14910004949526978\n",
      "i: 2 -> rmsle: 0.14659316068504824\n",
      "i: 3 -> rmsle: 0.1456389184488674\n",
      "i: 4 -> rmsle: 0.14527806527294493\n",
      "i: 5 -> rmsle: 0.14521460109535508\n",
      "i: 6 -> rmsle: 0.14531994937826592\n",
      "i: 7 -> rmsle: 0.14552810574014308\n",
      "i: 8 -> rmsle: 0.14580164287386832\n",
      "i: 9 -> rmsle: 0.14611788399071426\n",
      "i: 10 -> rmsle: 0.14646242112875169\n",
      "i: 11 -> rmsle: 0.14682576662559282\n",
      "i: 12 -> rmsle: 0.14720149651758313\n",
      "i: 13 -> rmsle: 0.14758516412514666\n",
      "i: 14 -> rmsle: 0.14797363662371218\n",
      "i: 15 -> rmsle: 0.1483646755989626\n",
      "i: 16 -> rmsle: 0.14875666407474547\n",
      "i: 17 -> rmsle: 0.14914842445130808\n",
      "i: 18 -> rmsle: 0.1495390944853802\n",
      "i: 19 -> rmsle: 0.14992804124016665\n",
      "i: 20 -> rmsle: 0.15031480040743397\n",
      "i: 21 -> rmsle: 0.15069903290371373\n",
      "i: 22 -> rmsle: 0.1510804934243871\n",
      "i: 23 -> rmsle: 0.15145900739961815\n",
      "i: 24 -> rmsle: 0.15183445393323647\n",
      "i: 25 -> rmsle: 0.15220675305407488\n",
      "i: 26 -> rmsle: 0.15257585611015612\n",
      "i: 27 -> rmsle: 0.1529417384765078\n",
      "i: 28 -> rmsle: 0.15330439398192844\n",
      "i: 29 -> rmsle: 0.15366383062371716\n",
      "best score: 0.14521460109535508 at 5\n"
     ]
    },
    {
     "data": {
      "image/png": "[encoded data removed]",
      "text/plain": [
       "<matplotlib.figure.Figure at 0x1172c9be0>"
      ]
     },
     "metadata": {},
     "output_type": "display_data"
    }
   ],
   "source": [
    "ridge_alpha_tuning(range(1,30), tr_X, tr_y, cv_ref, root_mean_squared_error)"
   ]
  },
  {
   "cell_type": "code",
   "execution_count": 61,
   "metadata": {},
   "outputs": [
    {
     "name": "stdout",
     "output_type": "stream",
     "text": [
      "i: 1 -> rmsle: 0.1694172872607855\n",
      "i: 2 -> rmsle: 0.1589879108486278\n",
      "i: 3 -> rmsle: 0.154166464937774\n",
      "i: 4 -> rmsle: 0.15129868376586444\n",
      "i: 5 -> rmsle: 0.14937918983961013\n",
      "i: 6 -> rmsle: 0.14800302828868453\n",
      "i: 7 -> rmsle: 0.14697186371104726\n",
      "i: 8 -> rmsle: 0.1461757587799554\n",
      "i: 9 -> rmsle: 0.1455482521896455\n",
      "i: 10 -> rmsle: 0.1450464833199719\n",
      "i: 11 -> rmsle: 0.14464139091392486\n",
      "i: 12 -> rmsle: 0.1443124659454506\n",
      "i: 13 -> rmsle: 0.14404475467818195\n",
      "i: 14 -> rmsle: 0.14382705456115744\n",
      "i: 15 -> rmsle: 0.14365077976364107\n",
      "i: 16 -> rmsle: 0.143509221024493\n",
      "i: 17 -> rmsle: 0.14339704728546462\n",
      "i: 18 -> rmsle: 0.14330996083077435\n",
      "i: 19 -> rmsle: 0.14324445288070947\n",
      "i: 20 -> rmsle: 0.14319762669196284\n",
      "i: 21 -> rmsle: 0.14316706710311047\n",
      "i: 22 -> rmsle: 0.14315074271164194\n",
      "i: 23 -> rmsle: 0.14314693141247092\n",
      "i: 24 -> rmsle: 0.1431541629472698\n",
      "i: 25 -> rmsle: 0.14317117403205865\n",
      "i: 26 -> rmsle: 0.1431968729163656\n",
      "i: 27 -> rmsle: 0.14323031110530823\n",
      "i: 28 -> rmsle: 0.14327066058564714\n",
      "i: 29 -> rmsle: 0.14331719532680218\n",
      "i: 30 -> rmsle: 0.1433692761353445\n",
      "i: 31 -> rmsle: 0.14342633816433578\n",
      "i: 32 -> rmsle: 0.14348788054237074\n",
      "i: 33 -> rmsle: 0.14355345770846106\n",
      "i: 34 -> rmsle: 0.14362267212983723\n",
      "best score: 0.14314693141247092 at 23\n"
     ]
    },
    {
     "data": {
      "image/png": "[encoded data removed]",
      "text/plain": [
       "<matplotlib.figure.Figure at 0x10eaff940>"
      ]
     },
     "metadata": {},
     "output_type": "display_data"
    }
   ],
   "source": [
    "#RIDGE with features selected and interaction\n",
    "ridge_alpha_tuning(range(1,35), tr_X_poly, tr_y, cv_ref, root_mean_squared_error)"
   ]
  },
  {
   "cell_type": "code",
   "execution_count": 62,
   "metadata": {},
   "outputs": [
    {
     "name": "stdout",
     "output_type": "stream",
     "text": [
      "i: 10.0 -> rmsle: 0.14314693141247092\n",
      "i: 10.2 -> rmsle: 0.14314693141247092\n",
      "i: 10.4 -> rmsle: 0.14314693141247092\n",
      "i: 10.6 -> rmsle: 0.14314693141247092\n",
      "i: 10.8 -> rmsle: 0.14314693141247092\n",
      "i: 11.0 -> rmsle: 0.14314693141247092\n",
      "i: 11.2 -> rmsle: 0.1442945748040026\n",
      "i: 11.4 -> rmsle: 0.14804757294409762\n",
      "i: 11.6 -> rmsle: 0.1624220790254346\n",
      "i: 11.8 -> rmsle: 0.20048065180418345\n",
      "i: 12.0 -> rmsle: 0.2778952533881965\n",
      "best score: 0.14314693141247092 at 10.0\n"
     ]
    },
    {
     "data": {
      "image/png": "[encoded data removed]",
      "text/plain": [
       "<matplotlib.figure.Figure at 0x117a85438>"
      ]
     },
     "metadata": {},
     "output_type": "display_data"
    }
   ],
   "source": [
    "threshold_tuning(np.linspace(10, 12, 11), Ridge(alpha=23), \n",
    "                 tr_X_poly, tr_y, cv_ref, root_mean_squared_error)"
   ]
  },
  {
   "cell_type": "code",
   "execution_count": 73,
   "metadata": {},
   "outputs": [
    {
     "data": {
      "image/png": "[encoded data removed]",
      "text/plain": [
       "<matplotlib.figure.Figure at 0x116f5c898>"
      ]
     },
     "metadata": {},
     "output_type": "display_data"
    }
   ],
   "source": [
    "#train\n",
    "ridge = Ridge(alpha=23)\n",
    "ridge.fit(tr_X_poly, tr_y)\n",
    "\n",
    "#predict\n",
    "pred_te_y = pd.DataFrame({\"Id\": te_X.index, \n",
    "                          \"SalePrice\": ridge.predict(\n",
    "                              bring_interaction(te_X.loc[:, feature_selected])).reshape((te_X.shape[0],))})\n",
    "pred_te_y.loc[pred_te_y.SalePrice < 10.0, \"SalePrice\"] = 10.0\n",
    "pred_te_y.loc[:, \"SalePrice\"] = pred_te_y.loc[:, \"SalePrice\"].apply(lambda x: np.e**x)\n",
    "\n",
    "#save submission\n",
    "description=\"alpha\" + str(23) + \"_threshold_\" + str(10)\n",
    "pred_te_y.to_csv(\"submission/ridge_set{}_{}.csv\".format(set_ver, description), index=False)\n",
    "ax = sns.distplot(pred_te_y.SalePrice)"
   ]
  },
  {
   "cell_type": "markdown",
   "metadata": {},
   "source": [
    "### REGULARIZATION: LASSO (모든 feature의 영향을 조심씩 줄여서 노이즈 없애기)"
   ]
  },
  {
   "cell_type": "code",
   "execution_count": 83,
   "metadata": {
    "collapsed": true
   },
   "outputs": [],
   "source": [
    "def lasso_alpha_tuning(iterable_range, X, y, cv_table, validation_func, \n",
    "                 threshold=min_log_saleprice):\n",
    "    rmsle = []\n",
    "    best_param = 0 \n",
    "    best_score = 1\n",
    "    for i in iterable_range:\n",
    "        regr = Lasso(alpha=i)\n",
    "        cv_scores = cross_validate(\n",
    "            regr, X, y, cv_table, validation_func, threshold)\n",
    "        mean_cv_score = np.mean(cv_scores)\n",
    "        rmsle.append(mean_cv_score)\n",
    "        if mean_cv_score < best_score:\n",
    "            best_score = mean_cv_score\n",
    "            best_param = i\n",
    "        print(\"i: {} -> rmsle: {}\".format(i, mean_cv_score))\n",
    "    print(\"best score: {} at {}\".format(best_score, best_param))\n",
    "    plt.plot(iterable_range, rmsle)\n",
    "    plt.title(\"Optimal param\")\n",
    "    plt.xlabel(\"param\")\n",
    "    plt.ylabel(\"RMSLE\")"
   ]
  },
  {
   "cell_type": "code",
   "execution_count": 136,
   "metadata": {},
   "outputs": [
    {
     "name": "stdout",
     "output_type": "stream",
     "text": [
      "i: 0.0001 -> rmsle: 0.15609743094131895\n",
      "i: 0.0002 -> rmsle: 0.14997196730515353\n",
      "i: 0.00030000000000000003 -> rmsle: 0.1470797643791649\n",
      "i: 0.0004 -> rmsle: 0.14567729701775972\n",
      "i: 0.0005 -> rmsle: 0.14500578799653505\n",
      "i: 0.0006000000000000001 -> rmsle: 0.1441597841918686\n",
      "i: 0.0007000000000000001 -> rmsle: 0.14324456058372434\n",
      "i: 0.0008 -> rmsle: 0.14264427439095523\n",
      "i: 0.0009000000000000001 -> rmsle: 0.14230505262432427\n",
      "i: 0.001 -> rmsle: 0.14220930720448374\n",
      "i: 0.0011 -> rmsle: 0.1423416573601845\n",
      "i: 0.0012000000000000001 -> rmsle: 0.14267018467167203\n",
      "i: 0.0013000000000000002 -> rmsle: 0.14312542861043714\n",
      "i: 0.0014000000000000002 -> rmsle: 0.14360272367076124\n",
      "i: 0.0015 -> rmsle: 0.1441161677936988\n",
      "i: 0.0016 -> rmsle: 0.1446705619044287\n",
      "i: 0.0017000000000000001 -> rmsle: 0.14525452033530445\n",
      "i: 0.0018000000000000002 -> rmsle: 0.14583982249393507\n",
      "i: 0.0019000000000000002 -> rmsle: 0.14644062169310385\n",
      "i: 0.002 -> rmsle: 0.1470511175900541\n",
      "i: 0.0021 -> rmsle: 0.14768413392691548\n",
      "i: 0.0022 -> rmsle: 0.14832404782439468\n",
      "i: 0.0023 -> rmsle: 0.1489427395701411\n",
      "i: 0.0024 -> rmsle: 0.14954531733775156\n",
      "i: 0.0025 -> rmsle: 0.15016907441854\n",
      "i: 0.0026 -> rmsle: 0.15081342944996468\n",
      "i: 0.0027 -> rmsle: 0.1514563163026294\n",
      "i: 0.0028 -> rmsle: 0.15210415859761997\n",
      "i: 0.0029 -> rmsle: 0.15277512241369653\n",
      "i: 0.003 -> rmsle: 0.15346432825434564\n",
      "best score: 0.14220930720448374 at 0.001\n"
     ]
    },
    {
     "data": {
      "image/png": "[encoded data removed]",
      "text/plain": [
       "<matplotlib.figure.Figure at 0x11ccb6940>"
      ]
     },
     "metadata": {},
     "output_type": "display_data"
    }
   ],
   "source": [
    "lasso_alpha_tuning(np.linspace(0.0001, 0.003, 30), tr_X, tr_y, cv_ref, root_mean_squared_error)"
   ]
  },
  {
   "cell_type": "code",
   "execution_count": 137,
   "metadata": {},
   "outputs": [
    {
     "name": "stderr",
     "output_type": "stream",
     "text": [
      "/Users/heekyungyoon/.pyenv/versions/3.6.0/envs/venv36_houseprice/lib/python3.6/site-packages/sklearn/linear_model/coordinate_descent.py:484: ConvergenceWarning: Objective did not converge. You might want to increase the number of iterations. Fitting data with very small alpha may cause precision problems.\n",
      "  ConvergenceWarning)\n"
     ]
    },
    {
     "name": "stdout",
     "output_type": "stream",
     "text": [
      "i: 0.0001 -> rmsle: 0.160969718941731\n",
      "i: 0.0002 -> rmsle: 0.1544307634454247\n",
      "i: 0.00030000000000000003 -> rmsle: 0.15078754375468734\n",
      "i: 0.0004 -> rmsle: 0.14862636252534117\n",
      "i: 0.0005 -> rmsle: 0.14744338999848283\n",
      "i: 0.0006000000000000001 -> rmsle: 0.14642531947958295\n",
      "i: 0.0007000000000000001 -> rmsle: 0.14574222126042097\n",
      "i: 0.0008 -> rmsle: 0.14533231162435528\n",
      "i: 0.0009000000000000001 -> rmsle: 0.14512720571162924\n",
      "i: 0.001 -> rmsle: 0.14507361782850228\n",
      "i: 0.0011 -> rmsle: 0.145200602940759\n",
      "i: 0.0012000000000000001 -> rmsle: 0.14538889055851184\n",
      "i: 0.0013000000000000002 -> rmsle: 0.14558304397446895\n",
      "i: 0.0014000000000000002 -> rmsle: 0.14579836174516192\n",
      "i: 0.0015 -> rmsle: 0.1460498044668287\n",
      "i: 0.0016 -> rmsle: 0.14632643215529761\n",
      "i: 0.0017000000000000001 -> rmsle: 0.1466483689248857\n",
      "i: 0.0018000000000000002 -> rmsle: 0.14697622464419383\n",
      "i: 0.0019000000000000002 -> rmsle: 0.14731991265887512\n",
      "i: 0.002 -> rmsle: 0.14770709683327496\n",
      "i: 0.0021 -> rmsle: 0.14812168511532717\n",
      "i: 0.0022 -> rmsle: 0.14856328001933683\n",
      "i: 0.0023 -> rmsle: 0.1490224167180014\n",
      "i: 0.0024 -> rmsle: 0.14948312539859296\n",
      "i: 0.0025 -> rmsle: 0.14995288753262875\n",
      "i: 0.0026 -> rmsle: 0.15041008114230173\n",
      "i: 0.0027 -> rmsle: 0.15089130988268182\n",
      "i: 0.0028 -> rmsle: 0.1513530951663606\n",
      "i: 0.0029 -> rmsle: 0.15182701550461686\n",
      "i: 0.003 -> rmsle: 0.15231258461496497\n",
      "best score: 0.14507361782850228 at 0.001\n"
     ]
    },
    {
     "data": {
      "image/png": "[encoded data removed]",
      "text/plain": [
       "<matplotlib.figure.Figure at 0x11cb7a470>"
      ]
     },
     "metadata": {},
     "output_type": "display_data"
    }
   ],
   "source": [
    "lasso_alpha_tuning(np.linspace(0.0001, 0.003, 30), tr_X_poly, tr_y, cv_ref, root_mean_squared_error)"
   ]
  },
  {
   "cell_type": "code",
   "execution_count": 139,
   "metadata": {},
   "outputs": [
    {
     "name": "stdout",
     "output_type": "stream",
     "text": [
      "i: 10.0 -> rmsle: 0.14507361782850228\n",
      "i: 10.2 -> rmsle: 0.14507361782850228\n",
      "i: 10.4 -> rmsle: 0.14507361782850228\n",
      "i: 10.6 -> rmsle: 0.14507361782850228\n",
      "i: 10.8 -> rmsle: 0.14507361782850228\n",
      "i: 11.0 -> rmsle: 0.14532057408523916\n",
      "i: 11.2 -> rmsle: 0.14638481693482142\n",
      "i: 11.4 -> rmsle: 0.1506694175960833\n",
      "i: 11.6 -> rmsle: 0.1652712985012763\n",
      "i: 11.8 -> rmsle: 0.20347739896646325\n",
      "i: 12.0 -> rmsle: 0.28022612085152915\n",
      "best score: 0.14507361782850228 at 10.0\n"
     ]
    },
    {
     "data": {
      "image/png": "[encoded data removed]",
      "text/plain": [
       "<matplotlib.figure.Figure at 0x11ca4f4e0>"
      ]
     },
     "metadata": {},
     "output_type": "display_data"
    }
   ],
   "source": [
    "threshold_tuning(np.linspace(10, 12, 11), Lasso(alpha=0.001), \n",
    "                 tr_X_poly, tr_y, cv_ref, root_mean_squared_error)"
   ]
  }
 ],
 "metadata": {
  "kernelspec": {
   "display_name": "Python 3",
   "language": "python",
   "name": "python3"
  },
  "language_info": {
   "codemirror_mode": {
    "name": "ipython",
    "version": 3
   },
   "file_extension": ".py",
   "mimetype": "text/x-python",
   "name": "python",
   "nbconvert_exporter": "python",
   "pygments_lexer": "ipython3",
   "version": "3.6.0"
  }
 },
 "nbformat": 4,
 "nbformat_minor": 2
}
